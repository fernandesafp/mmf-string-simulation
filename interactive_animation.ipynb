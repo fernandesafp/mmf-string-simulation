{
 "cells": [
  {
   "cell_type": "code",
   "execution_count": null,
   "id": "06e31ddd",
   "metadata": {},
   "outputs": [],
   "source": [
    "]activate ."
   ]
  },
  {
   "cell_type": "code",
   "execution_count": null,
   "id": "3b51a5eb",
   "metadata": {},
   "outputs": [],
   "source": [
    "]instantiate"
   ]
  },
  {
   "cell_type": "code",
   "execution_count": null,
   "id": "2a3dd698",
   "metadata": {},
   "outputs": [],
   "source": [
    "using SymPy\n",
    "using Plots\n",
    "using Interact\n",
    "theme(:dark)\n",
    "using Logging; Logging.disable_logging(Logging.Info);"
   ]
  },
  {
   "cell_type": "code",
   "execution_count": null,
   "id": "12a67ff9",
   "metadata": {},
   "outputs": [],
   "source": [
    "# Define the parameters with initial values\n",
    "\n",
    "# Parameters\n",
    "x₀ = 0             # Left limit (m)\n",
    "L = 1              # Right limit (m)\n",
    "step = 0.01        # Step\n",
    "range = x₀:step:L  # Range\n",
    "N_max = 15         # Maximum number of iterations\n",
    "iter_fps = 3       # Frames per second for iterations\n",
    "wave_fps = 30      # Frames per second for the wave\n",
    "Δt = 6             # seconds\n",
    "\n",
    "# Fourier coefficient and function\n",
    "@syms n::(integer,positive), x::(real,positive), N::(integer,positive)\n",
    "b = 8 / sympy.pi^2 * (-1)^n / (2n + 1)^2\n",
    "g = b * sympy.sin((2n + 1) * sympy.pi * x / L)\n",
    "\n",
    "# y component\n",
    "@syms t::(real,positive), d(), k::(integer,positive), v::(integer,positive)\n",
    "y = g * d(t)\n",
    "\n",
    "# Wave function\n",
    "wave_function = Eq(diff(y, (t, 2)) - v^2 * diff(y, (x, 2)) + k * diff(y, t), 0)\n",
    "\n",
    "# Differential solve\n",
    "N_wave = 1\n",
    "solution = dsolve(wave_function, d(t), ics = Dict(d(0) => 1, diff(d(t), t)(0) => 1))\n",
    "\n",
    "y = sympy.re(subs(y, d(t), solution.rhs))\n",
    "# Extract the real part of the wave function\n",
    "y_function = lambdify(y, [x, t, k, v, n])\n",
    "\n",
    "# Wave animation function\n",
    "@manipulate for N_in in dropdown(0:15, value=1, label=\"N\"), k_in in dropdown(0:5, value=2, label=\"k (N/m)\"), v_in in dropdown(1:5, value=2, label=\"v (m/s)\")\n",
    "    @time wave = @animate for current_t = 0:1/wave_fps:Δt\n",
    "        print(\"\\r\")\n",
    "        print(\"Completed: $(Int(round(current_t*100/Δt)))%\")\n",
    "        cord = zeros(length(range))\n",
    "        for i = 0:N_in\n",
    "            cord += y_function.(range, current_t, k_in, v_in, i)\n",
    "        end\n",
    "        plot(\n",
    "            range,\n",
    "            cord,\n",
    "            grid = false,\n",
    "            framestyle = :semi,\n",
    "            linewidth = 2,\n",
    "            foreground_color_legend = nothing,\n",
    "            label = \"N = $N_in; v = $v_in m/s; k = $k_in N/m; t = $(round(current_t; digits=1)) s\",\n",
    "        )\n",
    "        xaxis!((x₀, L), 0:1:2*L)\n",
    "        xlabel!(\"Length (m)\")\n",
    "        yaxis!((-1.5, 1.5), -2*L:1:2*L)\n",
    "        ylabel!(\"Amplitude (m)\")\n",
    "    end\n",
    "    gif(wave, \"gifs/string_animation.gif\", fps = wave_fps)\n",
    "end\n"
   ]
  }
 ],
 "metadata": {
  "@webio": {
   "lastCommId": "c02c932d911740499549b6af4b609844",
   "lastKernelId": "f13b5812-4caa-4138-b961-f72937f9eb8a"
  },
  "kernelspec": {
   "display_name": "Julia 1.9.0",
   "language": "julia",
   "name": "julia-1.9"
  },
  "language_info": {
   "file_extension": ".jl",
   "mimetype": "application/julia",
   "name": "julia",
   "version": "1.9.0"
  }
 },
 "nbformat": 4,
 "nbformat_minor": 5
}
